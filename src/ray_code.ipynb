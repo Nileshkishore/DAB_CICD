{
 "cells": [
  {
   "cell_type": "code",
   "execution_count": 4,
   "id": "5768b025-a6d8-4c68-8923-a21166aca084",
   "metadata": {},
   "outputs": [
    {
     "ename": "ModuleNotFoundError",
     "evalue": "No module named 'ray'",
     "output_type": "error",
     "traceback": [
      "\u001b[0;31m---------------------------------------------------------------------------\u001b[0m",
      "\u001b[0;31mModuleNotFoundError\u001b[0m                       Traceback (most recent call last)",
      "Cell \u001b[0;32mIn[4], line 2\u001b[0m\n\u001b[1;32m      1\u001b[0m \u001b[38;5;28;01mimport\u001b[39;00m \u001b[38;5;21;01mtime\u001b[39;00m\n\u001b[0;32m----> 2\u001b[0m \u001b[38;5;28;01mimport\u001b[39;00m \u001b[38;5;21;01mray\u001b[39;00m \n\u001b[1;32m      4\u001b[0m output\u001b[38;5;241m=\u001b[39mray\u001b[38;5;241m.\u001b[39mget(re)\n\u001b[1;32m      5\u001b[0m \u001b[38;5;28mprint\u001b[39m(output)\n",
      "\u001b[0;31mModuleNotFoundError\u001b[0m: No module named 'ray'"
     ]
    }
   ],
   "source": [
    "import time\n",
    "import ray \n"
   ]
  },
  {
   "cell_type": "code",
   "execution_count": null,
   "id": "db24c1ef-11ca-483d-9067-68b804706669",
   "metadata": {},
   "outputs": [],
   "source": [
    "context = ray.init()"
   ]
  },
  {
   "cell_type": "code",
   "execution_count": 5,
   "id": "7650a52a-7591-4ef7-ab52-9a3818cfbe3e",
   "metadata": {},
   "outputs": [
    {
     "ename": "NameError",
     "evalue": "name 'ray' is not defined",
     "output_type": "error",
     "traceback": [
      "\u001b[0;31m---------------------------------------------------------------------------\u001b[0m",
      "\u001b[0;31mNameError\u001b[0m                                 Traceback (most recent call last)",
      "Cell \u001b[0;32mIn[5], line 1\u001b[0m\n\u001b[0;32m----> 1\u001b[0m context \u001b[38;5;241m=\u001b[39m ray\u001b[38;5;241m.\u001b[39minit()\n\u001b[1;32m      3\u001b[0m \u001b[38;5;129m@ray\u001b[39m\u001b[38;5;241m.\u001b[39mremote\n\u001b[1;32m      4\u001b[0m \u001b[38;5;28;01mdef\u001b[39;00m \u001b[38;5;21mfun1\u001b[39m():\n\u001b[1;32m      5\u001b[0m     time\u001b[38;5;241m.\u001b[39msleep(\u001b[38;5;241m500\u001b[39m)\n",
      "\u001b[0;31mNameError\u001b[0m: name 'ray' is not defined"
     ]
    }
   ],
   "source": [
    "\n",
    "@ray.remote\n",
    "def fun1():\n",
    "    time.sleep(500)\n",
    "    return 1\n",
    "\n",
    "re=[]\n",
    "for i in range(4):\n",
    "    re.append(fun1.remote())\n"
   ]
  },
  {
   "cell_type": "code",
   "execution_count": 6,
   "id": "4b22183f-8b83-4e26-bf5f-dfce819a4c77",
   "metadata": {},
   "outputs": [
    {
     "ename": "NameError",
     "evalue": "name 'ray' is not defined",
     "output_type": "error",
     "traceback": [
      "\u001b[0;31m---------------------------------------------------------------------------\u001b[0m",
      "\u001b[0;31mNameError\u001b[0m                                 Traceback (most recent call last)",
      "Cell \u001b[0;32mIn[6], line 1\u001b[0m\n\u001b[0;32m----> 1\u001b[0m output\u001b[38;5;241m=\u001b[39mray\u001b[38;5;241m.\u001b[39mget(re)\n\u001b[1;32m      2\u001b[0m \u001b[38;5;28mprint\u001b[39m(output)\n\u001b[1;32m      4\u001b[0m ray\u001b[38;5;241m.\u001b[39mshutdown()\n",
      "\u001b[0;31mNameError\u001b[0m: name 'ray' is not defined"
     ]
    }
   ],
   "source": [
    "output=ray.get(re)\n",
    "print(output)"
   ]
  },
  {
   "cell_type": "code",
   "execution_count": null,
   "id": "b3d070db-68d7-4358-8cb6-52f3b5596f56",
   "metadata": {},
   "outputs": [],
   "source": [
    "ray.shutdown()"
   ]
  }
 ],
 "metadata": {
  "kernelspec": {
   "display_name": "Python 3 (ipykernel)",
   "language": "python",
   "name": "python3"
  },
  "language_info": {
   "codemirror_mode": {
    "name": "ipython",
    "version": 3
   },
   "file_extension": ".py",
   "mimetype": "text/x-python",
   "name": "python",
   "nbconvert_exporter": "python",
   "pygments_lexer": "ipython3",
   "version": "3.11.7"
  }
 },
 "nbformat": 4,
 "nbformat_minor": 5
}
