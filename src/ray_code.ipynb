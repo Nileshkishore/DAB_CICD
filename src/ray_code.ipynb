{
 "cells": [
  {
   "cell_type": "code",
   "execution_count": null,
   "id": "5768b025-a6d8-4c68-8923-a21166aca084",
   "metadata": {},
   "outputs": [],
   "source": [
    "!pip install ray"
   ]
  },
  {
   "cell_type": "code",
   "execution_count": null,
   "id": "3a3c18f3",
   "metadata": {},
   "outputs": [],
   "source": [
    "import time\n",
    "import ray "
   ]
  },
  {
   "cell_type": "code",
   "execution_count": null,
   "id": "db24c1ef-11ca-483d-9067-68b804706669",
   "metadata": {},
   "outputs": [],
   "source": [
    "context = ray.init()"
   ]
  },
  {
   "cell_type": "code",
   "execution_count": null,
   "id": "7650a52a-7591-4ef7-ab52-9a3818cfbe3e",
   "metadata": {},
   "outputs": [],
   "source": [
    "\n",
    "@ray.remote\n",
    "def fun1():\n",
    "    time.sleep(10)\n",
    "    return 1\n",
    "\n",
    "re=[]\n",
    "for i in range(4):\n",
    "    re.append(fun1.remote())\n"
   ]
  },
  {
   "cell_type": "code",
   "execution_count": null,
   "id": "4b22183f-8b83-4e26-bf5f-dfce819a4c77",
   "metadata": {},
   "outputs": [],
   "source": [
    "output=ray.get(re)\n",
    "print(output)"
   ]
  },
  {
   "cell_type": "code",
   "execution_count": null,
   "id": "b3d070db-68d7-4358-8cb6-52f3b5596f56",
   "metadata": {},
   "outputs": [],
   "source": [
    "ray.shutdown()"
   ]
  }
 ],
 "metadata": {
  "kernelspec": {
   "display_name": "Python 3 (ipykernel)",
   "language": "python",
   "name": "python3"
  },
  "language_info": {
   "codemirror_mode": {
    "name": "ipython",
    "version": 3
   },
   "file_extension": ".py",
   "mimetype": "text/x-python",
   "name": "python",
   "nbconvert_exporter": "python",
   "pygments_lexer": "ipython3",
   "version": "3.11.7"
  }
 },
 "nbformat": 4,
 "nbformat_minor": 5
}
